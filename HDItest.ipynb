{
 "cells": [
  {
   "cell_type": "code",
   "execution_count": 34,
   "metadata": {},
   "outputs": [],
   "source": [
    "import warnings\n",
    "warnings.filterwarnings('ignore')"
   ]
  },
  {
   "cell_type": "markdown",
   "metadata": {},
   "source": [
    "Dependencies"
   ]
  },
  {
   "cell_type": "code",
   "execution_count": 3,
   "metadata": {},
   "outputs": [],
   "source": [
    "%matplotlib inline\n",
    "from matplotlib import pyplot as plt\n",
    "import numpy as np\n",
    "import scipy.stats as stats\n",
    "import matplotlib.pyplot as plt\n",
    "import numpy as np\n",
    "import pandas as pd\n",
    "import csv\n",
    "import os\n",
    "import numpy\n",
    "import requests as rq\n",
    "import pandas as pd\n",
    "from io import BytesIO\n",
    "import json"
   ]
  },
  {
   "cell_type": "markdown",
   "metadata": {},
   "source": [
    "# Context:\n",
    "\n",
    "* Human Capital Index (HCI) is a complex index created in 2018. It combines indicators of health and education into a measure of the human capital that a child born today can expect to obtain by her 18th birthday, given the risks of poor education and health that prevail in the country where she lives. The HCI is measured in units of productivity relative to a benchmark of complete education and full health, and ranges from 0 to 1. A value of x on the HCI indicates that a child born today can expect to be only x x100 percent as productive as a future worker as she would be if she enjoyed complete education and full health. The methodology of the HCI is anchored in the extensive literature on development accounting. For this excercise we are going to focus on the atribute of the index to meassure in 2018 the risks of poor education and health that prevail in the specific countries selected to  understand the conditions and gender differences in labor force participation, employers, employment by sector, population and unemployment in realation to the index.\n",
    "\n",
    "Some questions raised for this study are as following:\n",
    "* Is a Human Capital Index over 0.5 related to a high percentage of female or male labor participation?\n",
    "* Is a Human Capital Index over 0.5 related to a more female or male employers?\n",
    "* Meassure the impact of labour productivity (agricultural, industry, services sectors) on HCI.\n",
    "* How do large populations and low unemployment affect the HCI?\n",
    "\n",
    "We will try to prove as an Alternate hypothesis if the selected labor conditions of the countries generate an over 0.5 HCI.  If there is no relation we can say we have reached a Null Hypothesis. \n",
    "\n",
    "\n",
    "\n"
   ]
  },
  {
   "cell_type": "code",
   "execution_count": 4,
   "metadata": {},
   "outputs": [
    {
     "data": {
      "text/html": [
       "<div>\n",
       "<style scoped>\n",
       "    .dataframe tbody tr th:only-of-type {\n",
       "        vertical-align: middle;\n",
       "    }\n",
       "\n",
       "    .dataframe tbody tr th {\n",
       "        vertical-align: top;\n",
       "    }\n",
       "\n",
       "    .dataframe thead th {\n",
       "        text-align: right;\n",
       "    }\n",
       "</style>\n",
       "<table border=\"1\" class=\"dataframe\">\n",
       "  <thead>\n",
       "    <tr style=\"text-align: right;\">\n",
       "      <th></th>\n",
       "      <th>Labor Force Participation Female - 2018</th>\n",
       "      <th>Labor Force Participation Male - 2018</th>\n",
       "    </tr>\n",
       "    <tr>\n",
       "      <th>Country Name</th>\n",
       "      <th></th>\n",
       "      <th></th>\n",
       "    </tr>\n",
       "  </thead>\n",
       "  <tbody>\n",
       "    <tr>\n",
       "      <th>Brazil</th>\n",
       "      <td>60.90</td>\n",
       "      <td>79.97</td>\n",
       "    </tr>\n",
       "    <tr>\n",
       "      <th>Argentina</th>\n",
       "      <td>59.02</td>\n",
       "      <td>79.70</td>\n",
       "    </tr>\n",
       "    <tr>\n",
       "      <th>Colombia</th>\n",
       "      <td>62.55</td>\n",
       "      <td>85.12</td>\n",
       "    </tr>\n",
       "    <tr>\n",
       "      <th>United States</th>\n",
       "      <td>67.23</td>\n",
       "      <td>78.00</td>\n",
       "    </tr>\n",
       "    <tr>\n",
       "      <th>United Kingdom</th>\n",
       "      <td>73.08</td>\n",
       "      <td>82.40</td>\n",
       "    </tr>\n",
       "    <tr>\n",
       "      <th>United Arab Emirates</th>\n",
       "      <td>53.16</td>\n",
       "      <td>93.95</td>\n",
       "    </tr>\n",
       "    <tr>\n",
       "      <th>Turkey</th>\n",
       "      <td>38.15</td>\n",
       "      <td>78.39</td>\n",
       "    </tr>\n",
       "    <tr>\n",
       "      <th>Norway</th>\n",
       "      <td>75.27</td>\n",
       "      <td>80.13</td>\n",
       "    </tr>\n",
       "    <tr>\n",
       "      <th>Greece</th>\n",
       "      <td>60.17</td>\n",
       "      <td>76.56</td>\n",
       "    </tr>\n",
       "    <tr>\n",
       "      <th>India</th>\n",
       "      <td>22.16</td>\n",
       "      <td>79.70</td>\n",
       "    </tr>\n",
       "    <tr>\n",
       "      <th>Singapore</th>\n",
       "      <td>69.39</td>\n",
       "      <td>83.70</td>\n",
       "    </tr>\n",
       "    <tr>\n",
       "      <th>Vietnam</th>\n",
       "      <td>79.71</td>\n",
       "      <td>86.69</td>\n",
       "    </tr>\n",
       "    <tr>\n",
       "      <th>China</th>\n",
       "      <td>68.78</td>\n",
       "      <td>82.85</td>\n",
       "    </tr>\n",
       "    <tr>\n",
       "      <th>Nigeria</th>\n",
       "      <td>49.11</td>\n",
       "      <td>62.38</td>\n",
       "    </tr>\n",
       "    <tr>\n",
       "      <th>South Africa</th>\n",
       "      <td>53.85</td>\n",
       "      <td>66.19</td>\n",
       "    </tr>\n",
       "    <tr>\n",
       "      <th>Egypt, Arab Rep.</th>\n",
       "      <td>20.02</td>\n",
       "      <td>75.25</td>\n",
       "    </tr>\n",
       "    <tr>\n",
       "      <th>Australia</th>\n",
       "      <td>73.18</td>\n",
       "      <td>82.95</td>\n",
       "    </tr>\n",
       "    <tr>\n",
       "      <th>Israel</th>\n",
       "      <td>69.53</td>\n",
       "      <td>75.28</td>\n",
       "    </tr>\n",
       "  </tbody>\n",
       "</table>\n",
       "</div>"
      ],
      "text/plain": [
       "                      Labor Force Participation Female - 2018  \\\n",
       "Country Name                                                    \n",
       "Brazil                                                  60.90   \n",
       "Argentina                                               59.02   \n",
       "Colombia                                                62.55   \n",
       "United States                                           67.23   \n",
       "United Kingdom                                          73.08   \n",
       "United Arab Emirates                                    53.16   \n",
       "Turkey                                                  38.15   \n",
       "Norway                                                  75.27   \n",
       "Greece                                                  60.17   \n",
       "India                                                   22.16   \n",
       "Singapore                                               69.39   \n",
       "Vietnam                                                 79.71   \n",
       "China                                                   68.78   \n",
       "Nigeria                                                 49.11   \n",
       "South Africa                                            53.85   \n",
       "Egypt, Arab Rep.                                        20.02   \n",
       "Australia                                               73.18   \n",
       "Israel                                                  69.53   \n",
       "\n",
       "                      Labor Force Participation Male - 2018  \n",
       "Country Name                                                 \n",
       "Brazil                                                79.97  \n",
       "Argentina                                             79.70  \n",
       "Colombia                                              85.12  \n",
       "United States                                         78.00  \n",
       "United Kingdom                                        82.40  \n",
       "United Arab Emirates                                  93.95  \n",
       "Turkey                                                78.39  \n",
       "Norway                                                80.13  \n",
       "Greece                                                76.56  \n",
       "India                                                 79.70  \n",
       "Singapore                                             83.70  \n",
       "Vietnam                                               86.69  \n",
       "China                                                 82.85  \n",
       "Nigeria                                               62.38  \n",
       "South Africa                                          66.19  \n",
       "Egypt, Arab Rep.                                      75.25  \n",
       "Australia                                             82.95  \n",
       "Israel                                                75.28  "
      ]
     },
     "execution_count": 4,
     "metadata": {},
     "output_type": "execute_result"
    }
   ],
   "source": [
    "#Create path and read the  labor force participation and Human Development Index cvs.  \n",
    "#Convert them into data frames.\n",
    "#Set Country Name as index.\n",
    "#Format numbers to 2 decimal places for easier data reading.\n",
    "#Rename some columns.\n",
    "\n",
    "csv_path = os.path.join('clean_data','labor_force_participation.csv')\n",
    "with open(csv_path) as csvfile:\n",
    "    labor_force_df = pd.read_csv(csv_path, header=[0])\n",
    "    labor_force_df = pd.DataFrame(labor_force_df)\n",
    "    labor_force_df = labor_force_df.set_index('Country Name')\n",
    "    \n",
    "\n",
    "csv_path = os.path.join('clean_data','hci_df.csv')\n",
    "with open(csv_path) as csvfile:\n",
    "    HCI_df = pd.read_csv(csv_path, header=[0])\n",
    "    HCI_df = pd.DataFrame(HCI_df)\n",
    "    HCI_df = HCI_df.set_index('Country Name')\n",
    "    HCI_df = HCI_df.rename(columns={\"2018 [YR2018]\": \"HCI\"})\n",
    "    HCI_df[\"HCI\"] = HCI_df[\"HCI\"].map(\"{:.2f}\".format)\n",
    "   \n",
    "\n",
    "#HCI_df\n",
    "labor_force_df\n"
   ]
  },
  {
   "cell_type": "code",
   "execution_count": 6,
   "metadata": {},
   "outputs": [
    {
     "data": {
      "text/html": [
       "<div>\n",
       "<style scoped>\n",
       "    .dataframe tbody tr th:only-of-type {\n",
       "        vertical-align: middle;\n",
       "    }\n",
       "\n",
       "    .dataframe tbody tr th {\n",
       "        vertical-align: top;\n",
       "    }\n",
       "\n",
       "    .dataframe thead th {\n",
       "        text-align: right;\n",
       "    }\n",
       "</style>\n",
       "<table border=\"1\" class=\"dataframe\">\n",
       "  <thead>\n",
       "    <tr style=\"text-align: right;\">\n",
       "      <th></th>\n",
       "      <th></th>\n",
       "      <th>HCI</th>\n",
       "      <th>Labor Force Participation Female - 2018</th>\n",
       "      <th>Labor Force Participation Male - 2018</th>\n",
       "    </tr>\n",
       "    <tr>\n",
       "      <th>Country Name</th>\n",
       "      <th>Country Name</th>\n",
       "      <th></th>\n",
       "      <th></th>\n",
       "      <th></th>\n",
       "    </tr>\n",
       "  </thead>\n",
       "  <tbody>\n",
       "    <tr>\n",
       "      <th>Brazil</th>\n",
       "      <th>Brazil</th>\n",
       "      <td>0.55</td>\n",
       "      <td>60.90</td>\n",
       "      <td>79.97</td>\n",
       "    </tr>\n",
       "    <tr>\n",
       "      <th>Argentina</th>\n",
       "      <th>Argentina</th>\n",
       "      <td>0.62</td>\n",
       "      <td>59.02</td>\n",
       "      <td>79.70</td>\n",
       "    </tr>\n",
       "    <tr>\n",
       "      <th>Colombia</th>\n",
       "      <th>Colombia</th>\n",
       "      <td>0.60</td>\n",
       "      <td>62.55</td>\n",
       "      <td>85.12</td>\n",
       "    </tr>\n",
       "    <tr>\n",
       "      <th>United States</th>\n",
       "      <th>United States</th>\n",
       "      <td>0.71</td>\n",
       "      <td>67.23</td>\n",
       "      <td>78.00</td>\n",
       "    </tr>\n",
       "    <tr>\n",
       "      <th>United Kingdom</th>\n",
       "      <th>United Kingdom</th>\n",
       "      <td>0.78</td>\n",
       "      <td>73.08</td>\n",
       "      <td>82.40</td>\n",
       "    </tr>\n",
       "    <tr>\n",
       "      <th>United Arab Emirates</th>\n",
       "      <th>United Arab Emirates</th>\n",
       "      <td>0.68</td>\n",
       "      <td>53.16</td>\n",
       "      <td>93.95</td>\n",
       "    </tr>\n",
       "    <tr>\n",
       "      <th>Turkey</th>\n",
       "      <th>Turkey</th>\n",
       "      <td>0.63</td>\n",
       "      <td>38.15</td>\n",
       "      <td>78.39</td>\n",
       "    </tr>\n",
       "    <tr>\n",
       "      <th>Norway</th>\n",
       "      <th>Norway</th>\n",
       "      <td>0.77</td>\n",
       "      <td>75.27</td>\n",
       "      <td>80.13</td>\n",
       "    </tr>\n",
       "    <tr>\n",
       "      <th>Greece</th>\n",
       "      <th>Greece</th>\n",
       "      <td>0.69</td>\n",
       "      <td>60.17</td>\n",
       "      <td>76.56</td>\n",
       "    </tr>\n",
       "    <tr>\n",
       "      <th>India</th>\n",
       "      <th>India</th>\n",
       "      <td>0.48</td>\n",
       "      <td>22.16</td>\n",
       "      <td>79.70</td>\n",
       "    </tr>\n",
       "    <tr>\n",
       "      <th>Singapore</th>\n",
       "      <th>Singapore</th>\n",
       "      <td>0.89</td>\n",
       "      <td>69.39</td>\n",
       "      <td>83.70</td>\n",
       "    </tr>\n",
       "    <tr>\n",
       "      <th>Vietnam</th>\n",
       "      <th>Vietnam</th>\n",
       "      <td>0.69</td>\n",
       "      <td>79.71</td>\n",
       "      <td>86.69</td>\n",
       "    </tr>\n",
       "    <tr>\n",
       "      <th>China</th>\n",
       "      <th>China</th>\n",
       "      <td>0.65</td>\n",
       "      <td>68.78</td>\n",
       "      <td>82.85</td>\n",
       "    </tr>\n",
       "    <tr>\n",
       "      <th>Nigeria</th>\n",
       "      <th>Nigeria</th>\n",
       "      <td>0.35</td>\n",
       "      <td>49.11</td>\n",
       "      <td>62.38</td>\n",
       "    </tr>\n",
       "    <tr>\n",
       "      <th>South Africa</th>\n",
       "      <th>South Africa</th>\n",
       "      <td>0.42</td>\n",
       "      <td>53.85</td>\n",
       "      <td>66.19</td>\n",
       "    </tr>\n",
       "    <tr>\n",
       "      <th>Egypt, Arab Rep.</th>\n",
       "      <th>Egypt, Arab Rep.</th>\n",
       "      <td>0.49</td>\n",
       "      <td>20.02</td>\n",
       "      <td>75.25</td>\n",
       "    </tr>\n",
       "    <tr>\n",
       "      <th>Australia</th>\n",
       "      <th>Australia</th>\n",
       "      <td>0.78</td>\n",
       "      <td>73.18</td>\n",
       "      <td>82.95</td>\n",
       "    </tr>\n",
       "    <tr>\n",
       "      <th>Israel</th>\n",
       "      <th>Israel</th>\n",
       "      <td>0.76</td>\n",
       "      <td>69.53</td>\n",
       "      <td>75.28</td>\n",
       "    </tr>\n",
       "  </tbody>\n",
       "</table>\n",
       "</div>"
      ],
      "text/plain": [
       "                                            HCI  \\\n",
       "Country Name         Country Name                 \n",
       "Brazil               Brazil                0.55   \n",
       "Argentina            Argentina             0.62   \n",
       "Colombia             Colombia              0.60   \n",
       "United States        United States         0.71   \n",
       "United Kingdom       United Kingdom        0.78   \n",
       "United Arab Emirates United Arab Emirates  0.68   \n",
       "Turkey               Turkey                0.63   \n",
       "Norway               Norway                0.77   \n",
       "Greece               Greece                0.69   \n",
       "India                India                 0.48   \n",
       "Singapore            Singapore             0.89   \n",
       "Vietnam              Vietnam               0.69   \n",
       "China                China                 0.65   \n",
       "Nigeria              Nigeria               0.35   \n",
       "South Africa         South Africa          0.42   \n",
       "Egypt, Arab Rep.     Egypt, Arab Rep.      0.49   \n",
       "Australia            Australia             0.78   \n",
       "Israel               Israel                0.76   \n",
       "\n",
       "                                           Labor Force Participation Female - 2018  \\\n",
       "Country Name         Country Name                                                    \n",
       "Brazil               Brazil                                                  60.90   \n",
       "Argentina            Argentina                                               59.02   \n",
       "Colombia             Colombia                                                62.55   \n",
       "United States        United States                                           67.23   \n",
       "United Kingdom       United Kingdom                                          73.08   \n",
       "United Arab Emirates United Arab Emirates                                    53.16   \n",
       "Turkey               Turkey                                                  38.15   \n",
       "Norway               Norway                                                  75.27   \n",
       "Greece               Greece                                                  60.17   \n",
       "India                India                                                   22.16   \n",
       "Singapore            Singapore                                               69.39   \n",
       "Vietnam              Vietnam                                                 79.71   \n",
       "China                China                                                   68.78   \n",
       "Nigeria              Nigeria                                                 49.11   \n",
       "South Africa         South Africa                                            53.85   \n",
       "Egypt, Arab Rep.     Egypt, Arab Rep.                                        20.02   \n",
       "Australia            Australia                                               73.18   \n",
       "Israel               Israel                                                  69.53   \n",
       "\n",
       "                                           Labor Force Participation Male - 2018  \n",
       "Country Name         Country Name                                                 \n",
       "Brazil               Brazil                                                79.97  \n",
       "Argentina            Argentina                                             79.70  \n",
       "Colombia             Colombia                                              85.12  \n",
       "United States        United States                                         78.00  \n",
       "United Kingdom       United Kingdom                                        82.40  \n",
       "United Arab Emirates United Arab Emirates                                  93.95  \n",
       "Turkey               Turkey                                                78.39  \n",
       "Norway               Norway                                                80.13  \n",
       "Greece               Greece                                                76.56  \n",
       "India                India                                                 79.70  \n",
       "Singapore            Singapore                                             83.70  \n",
       "Vietnam              Vietnam                                               86.69  \n",
       "China                China                                                 82.85  \n",
       "Nigeria              Nigeria                                               62.38  \n",
       "South Africa         South Africa                                          66.19  \n",
       "Egypt, Arab Rep.     Egypt, Arab Rep.                                      75.25  \n",
       "Australia            Australia                                             82.95  \n",
       "Israel               Israel                                                75.28  "
      ]
     },
     "execution_count": 6,
     "metadata": {},
     "output_type": "execute_result"
    }
   ],
   "source": [
    "HCI_total= pd.merge(HCI_df, labor_force_df, how=\"left\", on=[\"Country Name\", \"Country Name\"])\n",
    "pd.to_numeric(HCI_total[\"HCI\"]).astype(float)\n",
    "pd.to_numeric(HCI_total[\"Labor Force Participation Female - 2018\"]).astype(float)\n",
    "pd.to_numeric(HCI_total[\"Labor Force Participation Male - 2018\"]).astype(float)\n",
    "HCI_total"
   ]
  },
  {
   "cell_type": "markdown",
   "metadata": {},
   "source": [
    "# Is a Human Capital Index over 0.5 related to a high percentage of female or male labor participation?"
   ]
  },
  {
   "cell_type": "code",
   "execution_count": 9,
   "metadata": {},
   "outputs": [
    {
     "data": {
      "text/plain": [
       "18"
      ]
     },
     "execution_count": 9,
     "metadata": {},
     "output_type": "execute_result"
    }
   ],
   "source": [
    "HCI_count = len(HCI_total['HCI'])\n",
    "HCI_count"
   ]
  },
  {
   "cell_type": "code",
   "execution_count": 11,
   "metadata": {},
   "outputs": [],
   "source": [
    "#HCI_ranking = HCI_total[(HCI_total[\"HCI\"] >= 0.5)].count()[\"HCI\"]\n",
    "#HCI_ranking\n",
    "#Passing_HCI_ranking =HCI_ranking / float(HCI_count) * 100\n",
    "#Countries_high_hci = HCI_ranking.groupby([\"Country Name\"])\n",
    "\n",
    "#High_HCI_ranking = HCI_ranking.groupby([\"Country Name\"])"
   ]
  },
  {
   "cell_type": "code",
   "execution_count": 13,
   "metadata": {},
   "outputs": [
    {
     "data": {
      "image/png": "[encoded data removed]",
      "text/plain": [
       "<Figure size 432x288 with 1 Axes>"
      ]
     },
     "metadata": {
      "needs_background": "light"
     },
     "output_type": "display_data"
    }
   ],
   "source": [
    "labor_force_participation_plot = plt.scatter(HCI_total['Labor Force Participation Female - 2018'],HCI_total['Labor Force Participation Male - 2018'],marker='o',edgecolors='black')\n",
    "plt.grid()\n",
    "plt.title('Female Participation vs. Male Participation',size=18)\n",
    "plt.xlabel('Female labor participation',size=15)\n",
    "plt.ylabel('Male labor participation',size=15)\n",
    "#plt.savefig('raw_data/Fig1.png')\n",
    "plt.show()"
   ]
  },
  {
   "cell_type": "code",
   "execution_count": 14,
   "metadata": {},
   "outputs": [
    {
     "ename": "TypeError",
     "evalue": "'>=' not supported between instances of 'str' and 'float'",
     "output_type": "error",
     "traceback": [
      "\u001b[0;31m---------------------------------------------------------------------------\u001b[0m",
      "\u001b[0;31mTypeError\u001b[0m                                 Traceback (most recent call last)",
      "\u001b[0;32m/var/folders/7t/01p67wq52hn_2dzp38pqnxl80000gn/T/ipykernel_5497/1029445448.py\u001b[0m in \u001b[0;36m<module>\u001b[0;34m\u001b[0m\n\u001b[1;32m      2\u001b[0m \u001b[0;34m\u001b[0m\u001b[0m\n\u001b[1;32m      3\u001b[0m \u001b[0;31m#Northern Hemisphere (Lat > 0)\u001b[0m\u001b[0;34m\u001b[0m\u001b[0;34m\u001b[0m\u001b[0m\n\u001b[0;32m----> 4\u001b[0;31m \u001b[0mhigh_ranking_HCI\u001b[0m \u001b[0;34m=\u001b[0m \u001b[0mHCI_total\u001b[0m\u001b[0;34m[\u001b[0m\u001b[0mHCI_total\u001b[0m\u001b[0;34m[\u001b[0m\u001b[0;34m'HCI'\u001b[0m\u001b[0;34m]\u001b[0m \u001b[0;34m>=\u001b[0m \u001b[0;36m0.5\u001b[0m\u001b[0;34m]\u001b[0m\u001b[0;34m\u001b[0m\u001b[0;34m\u001b[0m\u001b[0m\n\u001b[0m\u001b[1;32m      5\u001b[0m \u001b[0;34m\u001b[0m\u001b[0m\n\u001b[1;32m      6\u001b[0m \u001b[0;31m#Southern Hemisphere (Lat < 0)\u001b[0m\u001b[0;34m\u001b[0m\u001b[0;34m\u001b[0m\u001b[0m\n",
      "\u001b[0;32m/opt/anaconda3/lib/python3.9/site-packages/pandas/core/ops/common.py\u001b[0m in \u001b[0;36mnew_method\u001b[0;34m(self, other)\u001b[0m\n\u001b[1;32m     67\u001b[0m         \u001b[0mother\u001b[0m \u001b[0;34m=\u001b[0m \u001b[0mitem_from_zerodim\u001b[0m\u001b[0;34m(\u001b[0m\u001b[0mother\u001b[0m\u001b[0;34m)\u001b[0m\u001b[0;34m\u001b[0m\u001b[0;34m\u001b[0m\u001b[0m\n\u001b[1;32m     68\u001b[0m \u001b[0;34m\u001b[0m\u001b[0m\n\u001b[0;32m---> 69\u001b[0;31m         \u001b[0;32mreturn\u001b[0m \u001b[0mmethod\u001b[0m\u001b[0;34m(\u001b[0m\u001b[0mself\u001b[0m\u001b[0;34m,\u001b[0m \u001b[0mother\u001b[0m\u001b[0;34m)\u001b[0m\u001b[0;34m\u001b[0m\u001b[0;34m\u001b[0m\u001b[0m\n\u001b[0m\u001b[1;32m     70\u001b[0m \u001b[0;34m\u001b[0m\u001b[0m\n\u001b[1;32m     71\u001b[0m     \u001b[0;32mreturn\u001b[0m \u001b[0mnew_method\u001b[0m\u001b[0;34m\u001b[0m\u001b[0;34m\u001b[0m\u001b[0m\n",
      "\u001b[0;32m/opt/anaconda3/lib/python3.9/site-packages/pandas/core/arraylike.py\u001b[0m in \u001b[0;36m__ge__\u001b[0;34m(self, other)\u001b[0m\n\u001b[1;32m     50\u001b[0m     \u001b[0;34m@\u001b[0m\u001b[0munpack_zerodim_and_defer\u001b[0m\u001b[0;34m(\u001b[0m\u001b[0;34m\"__ge__\"\u001b[0m\u001b[0;34m)\u001b[0m\u001b[0;34m\u001b[0m\u001b[0;34m\u001b[0m\u001b[0m\n\u001b[1;32m     51\u001b[0m     \u001b[0;32mdef\u001b[0m \u001b[0m__ge__\u001b[0m\u001b[0;34m(\u001b[0m\u001b[0mself\u001b[0m\u001b[0;34m,\u001b[0m \u001b[0mother\u001b[0m\u001b[0;34m)\u001b[0m\u001b[0;34m:\u001b[0m\u001b[0;34m\u001b[0m\u001b[0;34m\u001b[0m\u001b[0m\n\u001b[0;32m---> 52\u001b[0;31m         \u001b[0;32mreturn\u001b[0m \u001b[0mself\u001b[0m\u001b[0;34m.\u001b[0m\u001b[0m_cmp_method\u001b[0m\u001b[0;34m(\u001b[0m\u001b[0mother\u001b[0m\u001b[0;34m,\u001b[0m \u001b[0moperator\u001b[0m\u001b[0;34m.\u001b[0m\u001b[0mge\u001b[0m\u001b[0;34m)\u001b[0m\u001b[0;34m\u001b[0m\u001b[0;34m\u001b[0m\u001b[0m\n\u001b[0m\u001b[1;32m     53\u001b[0m \u001b[0;34m\u001b[0m\u001b[0m\n\u001b[1;32m     54\u001b[0m     \u001b[0;31m# -------------------------------------------------------------\u001b[0m\u001b[0;34m\u001b[0m\u001b[0;34m\u001b[0m\u001b[0m\n",
      "\u001b[0;32m/opt/anaconda3/lib/python3.9/site-packages/pandas/core/series.py\u001b[0m in \u001b[0;36m_cmp_method\u001b[0;34m(self, other, op)\u001b[0m\n\u001b[1;32m   5500\u001b[0m \u001b[0;34m\u001b[0m\u001b[0m\n\u001b[1;32m   5501\u001b[0m         \u001b[0;32mwith\u001b[0m \u001b[0mnp\u001b[0m\u001b[0;34m.\u001b[0m\u001b[0merrstate\u001b[0m\u001b[0;34m(\u001b[0m\u001b[0mall\u001b[0m\u001b[0;34m=\u001b[0m\u001b[0;34m\"ignore\"\u001b[0m\u001b[0;34m)\u001b[0m\u001b[0;34m:\u001b[0m\u001b[0;34m\u001b[0m\u001b[0;34m\u001b[0m\u001b[0m\n\u001b[0;32m-> 5502\u001b[0;31m             \u001b[0mres_values\u001b[0m \u001b[0;34m=\u001b[0m \u001b[0mops\u001b[0m\u001b[0;34m.\u001b[0m\u001b[0mcomparison_op\u001b[0m\u001b[0;34m(\u001b[0m\u001b[0mlvalues\u001b[0m\u001b[0;34m,\u001b[0m \u001b[0mrvalues\u001b[0m\u001b[0;34m,\u001b[0m \u001b[0mop\u001b[0m\u001b[0;34m)\u001b[0m\u001b[0;34m\u001b[0m\u001b[0;34m\u001b[0m\u001b[0m\n\u001b[0m\u001b[1;32m   5503\u001b[0m \u001b[0;34m\u001b[0m\u001b[0m\n\u001b[1;32m   5504\u001b[0m         \u001b[0;32mreturn\u001b[0m \u001b[0mself\u001b[0m\u001b[0;34m.\u001b[0m\u001b[0m_construct_result\u001b[0m\u001b[0;34m(\u001b[0m\u001b[0mres_values\u001b[0m\u001b[0;34m,\u001b[0m \u001b[0mname\u001b[0m\u001b[0;34m=\u001b[0m\u001b[0mres_name\u001b[0m\u001b[0;34m)\u001b[0m\u001b[0;34m\u001b[0m\u001b[0;34m\u001b[0m\u001b[0m\n",
      "\u001b[0;32m/opt/anaconda3/lib/python3.9/site-packages/pandas/core/ops/array_ops.py\u001b[0m in \u001b[0;36mcomparison_op\u001b[0;34m(left, right, op)\u001b[0m\n\u001b[1;32m    282\u001b[0m \u001b[0;34m\u001b[0m\u001b[0m\n\u001b[1;32m    283\u001b[0m     \u001b[0;32melif\u001b[0m \u001b[0mis_object_dtype\u001b[0m\u001b[0;34m(\u001b[0m\u001b[0mlvalues\u001b[0m\u001b[0;34m.\u001b[0m\u001b[0mdtype\u001b[0m\u001b[0;34m)\u001b[0m \u001b[0;32mor\u001b[0m \u001b[0misinstance\u001b[0m\u001b[0;34m(\u001b[0m\u001b[0mrvalues\u001b[0m\u001b[0;34m,\u001b[0m \u001b[0mstr\u001b[0m\u001b[0;34m)\u001b[0m\u001b[0;34m:\u001b[0m\u001b[0;34m\u001b[0m\u001b[0;34m\u001b[0m\u001b[0m\n\u001b[0;32m--> 284\u001b[0;31m         \u001b[0mres_values\u001b[0m \u001b[0;34m=\u001b[0m \u001b[0mcomp_method_OBJECT_ARRAY\u001b[0m\u001b[0;34m(\u001b[0m\u001b[0mop\u001b[0m\u001b[0;34m,\u001b[0m \u001b[0mlvalues\u001b[0m\u001b[0;34m,\u001b[0m \u001b[0mrvalues\u001b[0m\u001b[0;34m)\u001b[0m\u001b[0;34m\u001b[0m\u001b[0;34m\u001b[0m\u001b[0m\n\u001b[0m\u001b[1;32m    285\u001b[0m \u001b[0;34m\u001b[0m\u001b[0m\n\u001b[1;32m    286\u001b[0m     \u001b[0;32melse\u001b[0m\u001b[0;34m:\u001b[0m\u001b[0;34m\u001b[0m\u001b[0;34m\u001b[0m\u001b[0m\n",
      "\u001b[0;32m/opt/anaconda3/lib/python3.9/site-packages/pandas/core/ops/array_ops.py\u001b[0m in \u001b[0;36mcomp_method_OBJECT_ARRAY\u001b[0;34m(op, x, y)\u001b[0m\n\u001b[1;32m     71\u001b[0m         \u001b[0mresult\u001b[0m \u001b[0;34m=\u001b[0m \u001b[0mlibops\u001b[0m\u001b[0;34m.\u001b[0m\u001b[0mvec_compare\u001b[0m\u001b[0;34m(\u001b[0m\u001b[0mx\u001b[0m\u001b[0;34m.\u001b[0m\u001b[0mravel\u001b[0m\u001b[0;34m(\u001b[0m\u001b[0;34m)\u001b[0m\u001b[0;34m,\u001b[0m \u001b[0my\u001b[0m\u001b[0;34m.\u001b[0m\u001b[0mravel\u001b[0m\u001b[0;34m(\u001b[0m\u001b[0;34m)\u001b[0m\u001b[0;34m,\u001b[0m \u001b[0mop\u001b[0m\u001b[0;34m)\u001b[0m\u001b[0;34m\u001b[0m\u001b[0;34m\u001b[0m\u001b[0m\n\u001b[1;32m     72\u001b[0m     \u001b[0;32melse\u001b[0m\u001b[0;34m:\u001b[0m\u001b[0;34m\u001b[0m\u001b[0;34m\u001b[0m\u001b[0m\n\u001b[0;32m---> 73\u001b[0;31m         \u001b[0mresult\u001b[0m \u001b[0;34m=\u001b[0m \u001b[0mlibops\u001b[0m\u001b[0;34m.\u001b[0m\u001b[0mscalar_compare\u001b[0m\u001b[0;34m(\u001b[0m\u001b[0mx\u001b[0m\u001b[0;34m.\u001b[0m\u001b[0mravel\u001b[0m\u001b[0;34m(\u001b[0m\u001b[0;34m)\u001b[0m\u001b[0;34m,\u001b[0m \u001b[0my\u001b[0m\u001b[0;34m,\u001b[0m \u001b[0mop\u001b[0m\u001b[0;34m)\u001b[0m\u001b[0;34m\u001b[0m\u001b[0;34m\u001b[0m\u001b[0m\n\u001b[0m\u001b[1;32m     74\u001b[0m     \u001b[0;32mreturn\u001b[0m \u001b[0mresult\u001b[0m\u001b[0;34m.\u001b[0m\u001b[0mreshape\u001b[0m\u001b[0;34m(\u001b[0m\u001b[0mx\u001b[0m\u001b[0;34m.\u001b[0m\u001b[0mshape\u001b[0m\u001b[0;34m)\u001b[0m\u001b[0;34m\u001b[0m\u001b[0;34m\u001b[0m\u001b[0m\n\u001b[1;32m     75\u001b[0m \u001b[0;34m\u001b[0m\u001b[0m\n",
      "\u001b[0;32m/opt/anaconda3/lib/python3.9/site-packages/pandas/_libs/ops.pyx\u001b[0m in \u001b[0;36mpandas._libs.ops.scalar_compare\u001b[0;34m()\u001b[0m\n",
      "\u001b[0;31mTypeError\u001b[0m: '>=' not supported between instances of 'str' and 'float'"
     ]
    }
   ],
   "source": [
    "# Create FemaleLP and MaleLP Hemisphere DataFrames\n",
    "\n",
    "#Northern Hemisphere (Lat > 0)\n",
    "high_ranking_HCI = HCI_total[HCI_total['HCI'] >= 0.5]\n",
    "\n",
    "#Southern Hemisphere (Lat < 0)\n",
    "low_ranking_HCI = HCI_total[HCI_total['HCI'] < 0.5]"
   ]
  },
  {
   "cell_type": "markdown",
   "metadata": {},
   "source": [
    "# Helper Functions to Generate and Plot Data"
   ]
  },
  {
   "cell_type": "code",
   "execution_count": 3,
   "metadata": {
    "collapsed": true
   },
   "outputs": [],
   "source": [
    "# Generate some fake data to test with\n",
    "def gendata(loc=0):\n",
    "    population = stats.norm.rvs(size=1000, random_state=42)\n",
    "    sample = stats.norm.rvs(loc=loc, size=200, random_state=42)\n",
    "\n",
    "    # Scatter Plot of Data\n",
    "    plt.subplot(2, 1, 1)\n",
    "    plt.scatter(range(len(population)), population, label=\"population\")\n",
    "    plt.scatter(range(len(sample)), sample, label=\"sample\")\n",
    "    plt.legend()\n",
    "\n",
    "    # Histogram Plot of Data\n",
    "    plt.subplot(2, 1, 2)\n",
    "    plt.hist(population, 20, density=True, alpha=0.7, label=\"population\")\n",
    "    plt.hist(sample, 20, density=True, alpha=0.7, label=\"sample\")\n",
    "    plt.axvline(population.mean(), color='k', linestyle='dashed', linewidth=1)\n",
    "    plt.axvline(sample.mean(), color='k', linestyle='dashed', linewidth=1)\n",
    "    plt.legend()  \n",
    "    \n",
    "    return population, sample"
   ]
  },
  {
   "cell_type": "markdown",
   "metadata": {},
   "source": [
    "# One Sample T-Tests\n",
    "\n",
    "One Sample t-tests allow you to compare your sample mean to the population mean.\n",
    "\n",
    "### Assumptions\n",
    "\n",
    "1. Data is normally distributed\n",
    "2. Data is independent\n",
    "3. Data is randomly sampled\n",
    "\n",
    "https://docs.scipy.org/doc/scipy-0.14.0/reference/generated/scipy.stats.ttest_1samp.html"
   ]
  },
  {
   "cell_type": "code",
   "execution_count": 4,
   "metadata": {},
   "outputs": [
    {
     "data": {
      "image/png": "[encoded data removed]",
      "text/plain": [
       "<Figure size 432x288 with 2 Axes>"
      ]
     },
     "metadata": {},
     "output_type": "display_data"
    }
   ],
   "source": [
    "# Generate some data and show the scatter plot\n",
    "population, sample = gendata()"
   ]
  },
  {
   "cell_type": "code",
   "execution_count": 5,
   "metadata": {},
   "outputs": [
    {
     "data": {
      "text/plain": [
       "Ttest_1sampResult(statistic=-0.912976906342992, pvalue=0.36235943886051503)"
      ]
     },
     "execution_count": 5,
     "metadata": {},
     "output_type": "execute_result"
    }
   ],
   "source": [
    "stats.ttest_1samp(sample, population.mean())"
   ]
  },
  {
   "cell_type": "code",
   "execution_count": 6,
   "metadata": {},
   "outputs": [
    {
     "data": {
      "image/png": "[encoded data removed]",
      "text/plain": [
       "<Figure size 432x288 with 2 Axes>"
      ]
     },
     "metadata": {},
     "output_type": "display_data"
    }
   ],
   "source": [
    "# Generate data with a bigger difference in means\n",
    "population, sample = gendata(loc=-2)"
   ]
  },
  {
   "cell_type": "code",
   "execution_count": 7,
   "metadata": {},
   "outputs": [
    {
     "data": {
      "text/plain": [
       "Ttest_1sampResult(statistic=-31.293376800980507, pvalue=8.6800698449009275e-79)"
      ]
     },
     "execution_count": 7,
     "metadata": {},
     "output_type": "execute_result"
    }
   ],
   "source": [
    "stats.ttest_1samp(sample, population.mean())"
   ]
  }
 ],
 "metadata": {
  "anaconda-cloud": {},
  "kernelspec": {
   "display_name": "Python 3 (ipykernel)",
   "language": "python",
   "name": "python3"
  },
  "language_info": {
   "codemirror_mode": {
    "name": "ipython",
    "version": 3
   },
   "file_extension": ".py",
   "mimetype": "text/x-python",
   "name": "python",
   "nbconvert_exporter": "python",
   "pygments_lexer": "ipython3",
   "version": "3.9.7"
  },
  "varInspector": {
   "cols": {
    "lenName": 16,
    "lenType": 16,
    "lenVar": 40
   },
   "kernels_config": {
    "python": {
     "delete_cmd_postfix": "",
     "delete_cmd_prefix": "del ",
     "library": "var_list.py",
     "varRefreshCmd": "print(var_dic_list())"
    },
    "r": {
     "delete_cmd_postfix": ") ",
     "delete_cmd_prefix": "rm(",
     "library": "var_list.r",
     "varRefreshCmd": "cat(var_dic_list()) "
    }
   },
   "types_to_exclude": [
    "module",
    "function",
    "builtin_function_or_method",
    "instance",
    "_Feature"
   ],
   "window_display": false
  }
 },
 "nbformat": 4,
 "nbformat_minor": 1
}
